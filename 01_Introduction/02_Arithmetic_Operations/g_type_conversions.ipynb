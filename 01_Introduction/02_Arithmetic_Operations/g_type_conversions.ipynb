{
 "cells": [
  {
   "cell_type": "code",
   "execution_count": 1,
   "metadata": {},
   "outputs": [
    {
     "name": "stdout",
     "output_type": "stream",
     "text": [
      "str(12)           12\n",
      "str(121233.12323) 121233.12323\n",
      "str(-0.000012)    -1.2e-05\n",
      "str(True)         True\n",
      "str(None)         None\n"
     ]
    }
   ],
   "source": [
    "# NOTE: Anything can be converted to str; but not vice versa\n",
    "print(\"str(12)          \", str(12))\n",
    "print(\"str(121233.12323)\", str(121233.12323))\n",
    "print(\"str(-0.000012)   \", str(-0.000012))\n",
    "print(\"str(True)        \", str(True))\n",
    "print(\"str(None)        \", str(None))"
   ]
  }
 ],
 "metadata": {
  "kernelspec": {
   "display_name": "Python 3",
   "language": "python",
   "name": "python3"
  },
  "language_info": {
   "codemirror_mode": {
    "name": "ipython",
    "version": 3
   },
   "file_extension": ".py",
   "mimetype": "text/x-python",
   "name": "python",
   "nbconvert_exporter": "python",
   "pygments_lexer": "ipython3",
   "version": "3.10.13"
  }
 },
 "nbformat": 4,
 "nbformat_minor": 2
}
